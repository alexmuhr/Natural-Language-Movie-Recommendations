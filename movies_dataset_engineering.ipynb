{
 "cells": [
  {
   "cell_type": "markdown",
   "metadata": {},
   "source": [
    "# Movies Dataset Engineering\n",
    "\n",
    "This notebook loads csv files from The Movies Dataset from Kaggle and creates a number of pickle objects that are used to build the natural language movie recommender app. These pickle objects allow the recommender app to minimize use of pandas library and operate quickly using numpy. This notebook uses the movies_metadata.csv, credits.csv, and keywords.csv. Pickle objects produced include:\n",
    "1. actor_list.pkl: List of actors which appear in at least 10 movies. Used to search user input for actor names.\n",
    "2. genre_list.pkl: List of movie genres. Used to search user input for mentions of a particular genre.\n",
    "3. movie_list.pkl: List of movie titles used to search user input. Release year has been removed from movie titles. Movie titles which are also stopwords or genres have been removed.\n",
    "4. movie_array.pkl: Numpy array of movie properties used to generate recommendations. First 20 columns represent topic distribution of the movie description and keywords. All other columns are a sparse representation of actors and genres.\n",
    "5. norms.pkl: Pre-computed norms of topic distribution from each movie\n",
    "6. col_names.pkl: Names of columns in movie_array\n",
    "7. movie_names.pkl: Names of rows in movie_array\n",
    "8. movie_metadata.pkl: Pandas dataframe containing metadata information for every movie in movie_array"
   ]
  },
  {
   "cell_type": "code",
   "execution_count": 1,
   "metadata": {},
   "outputs": [],
   "source": [
    "import pandas as pd\n",
    "import numpy as np\n",
    "from ast import literal_eval\n",
    "import pickle\n",
    "from collections import Counter\n",
    "import re\n",
    "import string\n",
    "import seaborn as sns\n",
    "import matplotlib.pyplot as plt\n",
    "%matplotlib inline\n",
    "\n",
    "\n",
    "from nltk.stem.porter import PorterStemmer\n",
    "\n",
    "from sklearn.feature_extraction.text import CountVectorizer\n",
    "from sklearn.feature_extraction.text import TfidfVectorizer\n",
    "from sklearn.decomposition import TruncatedSVD\n",
    "from sklearn.decomposition import NMF\n",
    "\n",
    "from gensim.parsing.preprocessing import STOPWORDS"
   ]
  },
  {
   "cell_type": "code",
   "execution_count": 2,
   "metadata": {},
   "outputs": [
    {
     "name": "stderr",
     "output_type": "stream",
     "text": [
      "/Users/alex/anaconda3/lib/python3.7/site-packages/IPython/core/interactiveshell.py:3049: DtypeWarning: Columns (10) have mixed types. Specify dtype option on import or set low_memory=False.\n",
      "  interactivity=interactivity, compiler=compiler, result=result)\n"
     ]
    }
   ],
   "source": [
    "movies = pd.read_csv('the-movies-dataset/movies_metadata.csv')"
   ]
  },
  {
   "cell_type": "code",
   "execution_count": 3,
   "metadata": {},
   "outputs": [
    {
     "data": {
      "text/plain": [
       "Index(['adult', 'belongs_to_collection', 'budget', 'genres', 'homepage', 'id',\n",
       "       'imdb_id', 'original_language', 'original_title', 'overview',\n",
       "       'popularity', 'poster_path', 'production_companies',\n",
       "       'production_countries', 'release_date', 'revenue', 'runtime',\n",
       "       'spoken_languages', 'status', 'tagline', 'title', 'video',\n",
       "       'vote_average', 'vote_count'],\n",
       "      dtype='object')"
      ]
     },
     "execution_count": 3,
     "metadata": {},
     "output_type": "execute_result"
    }
   ],
   "source": [
    "movies.columns"
   ]
  },
  {
   "cell_type": "code",
   "execution_count": 4,
   "metadata": {},
   "outputs": [],
   "source": [
    "movies['title_type'] = movies['title'].apply(type)"
   ]
  },
  {
   "cell_type": "code",
   "execution_count": 5,
   "metadata": {},
   "outputs": [],
   "source": [
    "movies = movies[movies['title_type'] != float]"
   ]
  },
  {
   "cell_type": "code",
   "execution_count": 6,
   "metadata": {},
   "outputs": [],
   "source": [
    "credits = pd.read_csv('the-movies-dataset/credits.csv')"
   ]
  },
  {
   "cell_type": "code",
   "execution_count": 7,
   "metadata": {},
   "outputs": [
    {
     "data": {
      "text/html": [
       "<div>\n",
       "<style scoped>\n",
       "    .dataframe tbody tr th:only-of-type {\n",
       "        vertical-align: middle;\n",
       "    }\n",
       "\n",
       "    .dataframe tbody tr th {\n",
       "        vertical-align: top;\n",
       "    }\n",
       "\n",
       "    .dataframe thead th {\n",
       "        text-align: right;\n",
       "    }\n",
       "</style>\n",
       "<table border=\"1\" class=\"dataframe\">\n",
       "  <thead>\n",
       "    <tr style=\"text-align: right;\">\n",
       "      <th></th>\n",
       "      <th>cast</th>\n",
       "      <th>crew</th>\n",
       "      <th>id</th>\n",
       "    </tr>\n",
       "  </thead>\n",
       "  <tbody>\n",
       "    <tr>\n",
       "      <th>0</th>\n",
       "      <td>[{'cast_id': 14, 'character': 'Woody (voice)',...</td>\n",
       "      <td>[{'credit_id': '52fe4284c3a36847f8024f49', 'de...</td>\n",
       "      <td>862</td>\n",
       "    </tr>\n",
       "    <tr>\n",
       "      <th>1</th>\n",
       "      <td>[{'cast_id': 1, 'character': 'Alan Parrish', '...</td>\n",
       "      <td>[{'credit_id': '52fe44bfc3a36847f80a7cd1', 'de...</td>\n",
       "      <td>8844</td>\n",
       "    </tr>\n",
       "    <tr>\n",
       "      <th>2</th>\n",
       "      <td>[{'cast_id': 2, 'character': 'Max Goldman', 'c...</td>\n",
       "      <td>[{'credit_id': '52fe466a9251416c75077a89', 'de...</td>\n",
       "      <td>15602</td>\n",
       "    </tr>\n",
       "    <tr>\n",
       "      <th>3</th>\n",
       "      <td>[{'cast_id': 1, 'character': \"Savannah 'Vannah...</td>\n",
       "      <td>[{'credit_id': '52fe44779251416c91011acb', 'de...</td>\n",
       "      <td>31357</td>\n",
       "    </tr>\n",
       "    <tr>\n",
       "      <th>4</th>\n",
       "      <td>[{'cast_id': 1, 'character': 'George Banks', '...</td>\n",
       "      <td>[{'credit_id': '52fe44959251416c75039ed7', 'de...</td>\n",
       "      <td>11862</td>\n",
       "    </tr>\n",
       "  </tbody>\n",
       "</table>\n",
       "</div>"
      ],
      "text/plain": [
       "                                                cast  \\\n",
       "0  [{'cast_id': 14, 'character': 'Woody (voice)',...   \n",
       "1  [{'cast_id': 1, 'character': 'Alan Parrish', '...   \n",
       "2  [{'cast_id': 2, 'character': 'Max Goldman', 'c...   \n",
       "3  [{'cast_id': 1, 'character': \"Savannah 'Vannah...   \n",
       "4  [{'cast_id': 1, 'character': 'George Banks', '...   \n",
       "\n",
       "                                                crew     id  \n",
       "0  [{'credit_id': '52fe4284c3a36847f8024f49', 'de...    862  \n",
       "1  [{'credit_id': '52fe44bfc3a36847f80a7cd1', 'de...   8844  \n",
       "2  [{'credit_id': '52fe466a9251416c75077a89', 'de...  15602  \n",
       "3  [{'credit_id': '52fe44779251416c91011acb', 'de...  31357  \n",
       "4  [{'credit_id': '52fe44959251416c75039ed7', 'de...  11862  "
      ]
     },
     "execution_count": 7,
     "metadata": {},
     "output_type": "execute_result"
    }
   ],
   "source": [
    "credits.head()"
   ]
  },
  {
   "cell_type": "code",
   "execution_count": 8,
   "metadata": {},
   "outputs": [],
   "source": [
    "keywords = pd.read_csv('the-movies-dataset/keywords.csv')"
   ]
  },
  {
   "cell_type": "code",
   "execution_count": 9,
   "metadata": {},
   "outputs": [
    {
     "data": {
      "text/html": [
       "<div>\n",
       "<style scoped>\n",
       "    .dataframe tbody tr th:only-of-type {\n",
       "        vertical-align: middle;\n",
       "    }\n",
       "\n",
       "    .dataframe tbody tr th {\n",
       "        vertical-align: top;\n",
       "    }\n",
       "\n",
       "    .dataframe thead th {\n",
       "        text-align: right;\n",
       "    }\n",
       "</style>\n",
       "<table border=\"1\" class=\"dataframe\">\n",
       "  <thead>\n",
       "    <tr style=\"text-align: right;\">\n",
       "      <th></th>\n",
       "      <th>id</th>\n",
       "      <th>keywords</th>\n",
       "    </tr>\n",
       "  </thead>\n",
       "  <tbody>\n",
       "    <tr>\n",
       "      <th>0</th>\n",
       "      <td>862</td>\n",
       "      <td>[{'id': 931, 'name': 'jealousy'}, {'id': 4290,...</td>\n",
       "    </tr>\n",
       "    <tr>\n",
       "      <th>1</th>\n",
       "      <td>8844</td>\n",
       "      <td>[{'id': 10090, 'name': 'board game'}, {'id': 1...</td>\n",
       "    </tr>\n",
       "    <tr>\n",
       "      <th>2</th>\n",
       "      <td>15602</td>\n",
       "      <td>[{'id': 1495, 'name': 'fishing'}, {'id': 12392...</td>\n",
       "    </tr>\n",
       "    <tr>\n",
       "      <th>3</th>\n",
       "      <td>31357</td>\n",
       "      <td>[{'id': 818, 'name': 'based on novel'}, {'id':...</td>\n",
       "    </tr>\n",
       "    <tr>\n",
       "      <th>4</th>\n",
       "      <td>11862</td>\n",
       "      <td>[{'id': 1009, 'name': 'baby'}, {'id': 1599, 'n...</td>\n",
       "    </tr>\n",
       "  </tbody>\n",
       "</table>\n",
       "</div>"
      ],
      "text/plain": [
       "      id                                           keywords\n",
       "0    862  [{'id': 931, 'name': 'jealousy'}, {'id': 4290,...\n",
       "1   8844  [{'id': 10090, 'name': 'board game'}, {'id': 1...\n",
       "2  15602  [{'id': 1495, 'name': 'fishing'}, {'id': 12392...\n",
       "3  31357  [{'id': 818, 'name': 'based on novel'}, {'id':...\n",
       "4  11862  [{'id': 1009, 'name': 'baby'}, {'id': 1599, 'n..."
      ]
     },
     "execution_count": 9,
     "metadata": {},
     "output_type": "execute_result"
    }
   ],
   "source": [
    "keywords.head()"
   ]
  },
  {
   "cell_type": "markdown",
   "metadata": {},
   "source": [
    "### Create lists of actors, movies, and genres\n",
    "Pickle these lists to use them for NER"
   ]
  },
  {
   "cell_type": "code",
   "execution_count": 10,
   "metadata": {},
   "outputs": [],
   "source": [
    "# Create a list of all actors that appear in at least 10 movies\n",
    "\n",
    "def update_actor_counts(credits):\n",
    "    credits = literal_eval(credits)\n",
    "    actors = []\n",
    "    for actor in credits:\n",
    "        actors.append(actor['name'])\n",
    "    actor_counts.update(actors)\n",
    "\n",
    "actor_counts = Counter()\n",
    "\n",
    "dump = credits['cast'].apply(update_actor_counts)\n",
    "\n",
    "pop_actors = []\n",
    "for actor in actor_counts.keys():\n",
    "    if actor_counts[actor] >= 10:\n",
    "        pop_actors.append(actor)\n",
    "\n",
    "pickle.dump(pop_actors, open('pickles/actor_list.pkl', 'wb'))"
   ]
  },
  {
   "cell_type": "code",
   "execution_count": 11,
   "metadata": {},
   "outputs": [
    {
     "data": {
      "text/plain": [
       "10531"
      ]
     },
     "execution_count": 11,
     "metadata": {},
     "output_type": "execute_result"
    }
   ],
   "source": [
    "len(pop_actors)"
   ]
  },
  {
   "cell_type": "code",
   "execution_count": 12,
   "metadata": {},
   "outputs": [
    {
     "data": {
      "text/plain": [
       "(13270, 25)"
      ]
     },
     "execution_count": 12,
     "metadata": {},
     "output_type": "execute_result"
    }
   ],
   "source": [
    "# Filter out movies with less than 25 reviews and less than a 4 average rating\n",
    "\n",
    "movies = movies[movies['vote_count'] > 25]\n",
    "movies = movies[movies['vote_average'] > 4]\n",
    "movies = movies[movies['status'] == 'Released']\n",
    "movies.reset_index(inplace = True, drop = True)\n",
    "\n",
    "# movies dataframe is now much smaller\n",
    "movies.shape"
   ]
  },
  {
   "cell_type": "code",
   "execution_count": null,
   "metadata": {},
   "outputs": [],
   "source": [
    "movies.loc[0, 'genres']\n",
    "\n",
    "def list_genres(genres):\n",
    "    g_list = []\n",
    "    genres = literal_eval(genres)\n",
    "    for genre in genres:\n",
    "        g_list.append(genre['name'])\n",
    "    return g_list\n",
    "\n",
    "movies['genres'] = movies['genres'].apply(list_genres)"
   ]
  },
  {
   "cell_type": "code",
   "execution_count": 79,
   "metadata": {},
   "outputs": [],
   "source": [
    "# Create a list of all movie genres\n",
    "\n",
    "genre_list = []\n",
    "\n",
    "def get_genres(movie):\n",
    "    #movie = literal_eval(movie)\n",
    "    for genre in movie:\n",
    "        genre_list.append(genre.lower())\n",
    "        \n",
    "dump = movies['genres'].apply(get_genres)\n",
    "\n",
    "genre_list = list(set(genre_list))\n",
    "\n"
   ]
  },
  {
   "cell_type": "code",
   "execution_count": 81,
   "metadata": {},
   "outputs": [],
   "source": [
    "pickle.dump(genre_list, open('pickles/genre_list.pkl', 'wb'))"
   ]
  },
  {
   "cell_type": "code",
   "execution_count": 14,
   "metadata": {},
   "outputs": [],
   "source": [
    "# Create a list of all movies\n",
    "\n",
    "movie_list = list(movies['title'])\n",
    "\n",
    "for i, movie in enumerate(movie_list):\n",
    "    if len(movie) == 1 or movie.lower() in STOPWORDS:\n",
    "        movie_list.pop(i)\n",
    "        \n",
    "movie_list = list(set(movie_list) - set(genre_list).intersection(set(movie_list)))\n",
    "\n",
    "pickle.dump(movie_list, open('pickles/movie_list.pkl', 'wb'))"
   ]
  },
  {
   "cell_type": "markdown",
   "metadata": {},
   "source": [
    "### Eliminate unnecessary columns of movie dataframe"
   ]
  },
  {
   "cell_type": "code",
   "execution_count": 15,
   "metadata": {},
   "outputs": [
    {
     "data": {
      "text/plain": [
       "Index(['adult', 'belongs_to_collection', 'budget', 'genres', 'homepage', 'id',\n",
       "       'imdb_id', 'original_language', 'original_title', 'overview',\n",
       "       'popularity', 'poster_path', 'production_companies',\n",
       "       'production_countries', 'release_date', 'revenue', 'runtime',\n",
       "       'spoken_languages', 'status', 'tagline', 'title', 'video',\n",
       "       'vote_average', 'vote_count', 'title_type'],\n",
       "      dtype='object')"
      ]
     },
     "execution_count": 15,
     "metadata": {},
     "output_type": "execute_result"
    }
   ],
   "source": [
    "movies.columns"
   ]
  },
  {
   "cell_type": "code",
   "execution_count": 16,
   "metadata": {},
   "outputs": [
    {
     "data": {
      "text/html": [
       "<div>\n",
       "<style scoped>\n",
       "    .dataframe tbody tr th:only-of-type {\n",
       "        vertical-align: middle;\n",
       "    }\n",
       "\n",
       "    .dataframe tbody tr th {\n",
       "        vertical-align: top;\n",
       "    }\n",
       "\n",
       "    .dataframe thead th {\n",
       "        text-align: right;\n",
       "    }\n",
       "</style>\n",
       "<table border=\"1\" class=\"dataframe\">\n",
       "  <thead>\n",
       "    <tr style=\"text-align: right;\">\n",
       "      <th></th>\n",
       "      <th>genres</th>\n",
       "      <th>id</th>\n",
       "      <th>overview</th>\n",
       "      <th>release_date</th>\n",
       "      <th>runtime</th>\n",
       "      <th>tagline</th>\n",
       "      <th>title</th>\n",
       "      <th>vote_average</th>\n",
       "      <th>vote_count</th>\n",
       "    </tr>\n",
       "  </thead>\n",
       "  <tbody>\n",
       "    <tr>\n",
       "      <th>0</th>\n",
       "      <td>[{'id': 16, 'name': 'Animation'}, {'id': 35, '...</td>\n",
       "      <td>862</td>\n",
       "      <td>Led by Woody, Andy's toys live happily in his ...</td>\n",
       "      <td>1995-10-30</td>\n",
       "      <td>81.0</td>\n",
       "      <td>NaN</td>\n",
       "      <td>Toy Story</td>\n",
       "      <td>7.7</td>\n",
       "      <td>5415.0</td>\n",
       "    </tr>\n",
       "    <tr>\n",
       "      <th>1</th>\n",
       "      <td>[{'id': 12, 'name': 'Adventure'}, {'id': 14, '...</td>\n",
       "      <td>8844</td>\n",
       "      <td>When siblings Judy and Peter discover an encha...</td>\n",
       "      <td>1995-12-15</td>\n",
       "      <td>104.0</td>\n",
       "      <td>Roll the dice and unleash the excitement!</td>\n",
       "      <td>Jumanji</td>\n",
       "      <td>6.9</td>\n",
       "      <td>2413.0</td>\n",
       "    </tr>\n",
       "    <tr>\n",
       "      <th>2</th>\n",
       "      <td>[{'id': 10749, 'name': 'Romance'}, {'id': 35, ...</td>\n",
       "      <td>15602</td>\n",
       "      <td>A family wedding reignites the ancient feud be...</td>\n",
       "      <td>1995-12-22</td>\n",
       "      <td>101.0</td>\n",
       "      <td>Still Yelling. Still Fighting. Still Ready for...</td>\n",
       "      <td>Grumpier Old Men</td>\n",
       "      <td>6.5</td>\n",
       "      <td>92.0</td>\n",
       "    </tr>\n",
       "    <tr>\n",
       "      <th>3</th>\n",
       "      <td>[{'id': 35, 'name': 'Comedy'}, {'id': 18, 'nam...</td>\n",
       "      <td>31357</td>\n",
       "      <td>Cheated on, mistreated and stepped on, the wom...</td>\n",
       "      <td>1995-12-22</td>\n",
       "      <td>127.0</td>\n",
       "      <td>Friends are the people who let you be yourself...</td>\n",
       "      <td>Waiting to Exhale</td>\n",
       "      <td>6.1</td>\n",
       "      <td>34.0</td>\n",
       "    </tr>\n",
       "    <tr>\n",
       "      <th>4</th>\n",
       "      <td>[{'id': 35, 'name': 'Comedy'}]</td>\n",
       "      <td>11862</td>\n",
       "      <td>Just when George Banks has recovered from his ...</td>\n",
       "      <td>1995-02-10</td>\n",
       "      <td>106.0</td>\n",
       "      <td>Just When His World Is Back To Normal... He's ...</td>\n",
       "      <td>Father of the Bride Part II</td>\n",
       "      <td>5.7</td>\n",
       "      <td>173.0</td>\n",
       "    </tr>\n",
       "  </tbody>\n",
       "</table>\n",
       "</div>"
      ],
      "text/plain": [
       "                                              genres     id  \\\n",
       "0  [{'id': 16, 'name': 'Animation'}, {'id': 35, '...    862   \n",
       "1  [{'id': 12, 'name': 'Adventure'}, {'id': 14, '...   8844   \n",
       "2  [{'id': 10749, 'name': 'Romance'}, {'id': 35, ...  15602   \n",
       "3  [{'id': 35, 'name': 'Comedy'}, {'id': 18, 'nam...  31357   \n",
       "4                     [{'id': 35, 'name': 'Comedy'}]  11862   \n",
       "\n",
       "                                            overview release_date  runtime  \\\n",
       "0  Led by Woody, Andy's toys live happily in his ...   1995-10-30     81.0   \n",
       "1  When siblings Judy and Peter discover an encha...   1995-12-15    104.0   \n",
       "2  A family wedding reignites the ancient feud be...   1995-12-22    101.0   \n",
       "3  Cheated on, mistreated and stepped on, the wom...   1995-12-22    127.0   \n",
       "4  Just when George Banks has recovered from his ...   1995-02-10    106.0   \n",
       "\n",
       "                                             tagline  \\\n",
       "0                                                NaN   \n",
       "1          Roll the dice and unleash the excitement!   \n",
       "2  Still Yelling. Still Fighting. Still Ready for...   \n",
       "3  Friends are the people who let you be yourself...   \n",
       "4  Just When His World Is Back To Normal... He's ...   \n",
       "\n",
       "                         title  vote_average  vote_count  \n",
       "0                    Toy Story           7.7      5415.0  \n",
       "1                      Jumanji           6.9      2413.0  \n",
       "2             Grumpier Old Men           6.5        92.0  \n",
       "3            Waiting to Exhale           6.1        34.0  \n",
       "4  Father of the Bride Part II           5.7       173.0  "
      ]
     },
     "execution_count": 16,
     "metadata": {},
     "output_type": "execute_result"
    }
   ],
   "source": [
    "keep_cols = ['genres', 'id', 'overview', 'release_date', 'runtime', 'tagline', 'title', 'vote_average', 'vote_count']\n",
    "movies = movies[keep_cols]\n",
    "movies['id'] = pd.to_numeric(movies['id'])\n",
    "movies.head()"
   ]
  },
  {
   "cell_type": "markdown",
   "metadata": {},
   "source": [
    "### Merge keywords and actors into movie dataframe"
   ]
  },
  {
   "cell_type": "code",
   "execution_count": 17,
   "metadata": {},
   "outputs": [
    {
     "data": {
      "text/plain": [
       "[{'id': 931, 'name': 'jealousy'},\n",
       " {'id': 4290, 'name': 'toy'},\n",
       " {'id': 5202, 'name': 'boy'},\n",
       " {'id': 6054, 'name': 'friendship'},\n",
       " {'id': 9713, 'name': 'friends'},\n",
       " {'id': 9823, 'name': 'rivalry'},\n",
       " {'id': 165503, 'name': 'boy next door'},\n",
       " {'id': 170722, 'name': 'new toy'},\n",
       " {'id': 187065, 'name': 'toy comes to life'}]"
      ]
     },
     "execution_count": 17,
     "metadata": {},
     "output_type": "execute_result"
    }
   ],
   "source": [
    "literal_eval(keywords.loc[0,'keywords'])"
   ]
  },
  {
   "cell_type": "code",
   "execution_count": 18,
   "metadata": {},
   "outputs": [],
   "source": [
    "# Merge keywords with movie dataframe\n",
    "\n",
    "def extract_keywords(row):\n",
    "    kw_dict = literal_eval(row)\n",
    "    kw_str = ''\n",
    "    for kw in kw_dict:\n",
    "        kw_str += ' ' + kw['name']\n",
    "    return kw_str.strip()\n",
    "\n",
    "        \n",
    "keywords['string'] = keywords['keywords'].apply(extract_keywords)"
   ]
  },
  {
   "cell_type": "code",
   "execution_count": 19,
   "metadata": {},
   "outputs": [],
   "source": [
    "movies = pd.merge(movies, keywords[['string', 'id']], on = 'id', how = 'left')"
   ]
  },
  {
   "cell_type": "code",
   "execution_count": 20,
   "metadata": {},
   "outputs": [
    {
     "data": {
      "text/plain": [
       "(13443, 10)"
      ]
     },
     "execution_count": 20,
     "metadata": {},
     "output_type": "execute_result"
    }
   ],
   "source": [
    "# Looks like merging created some duplicate or garbage rows, need to remove these\n",
    "movies.shape"
   ]
  },
  {
   "cell_type": "code",
   "execution_count": 21,
   "metadata": {},
   "outputs": [
    {
     "data": {
      "text/plain": [
       "Confessions of a Dangerous Mind                4\n",
       "Pokémon 4Ever: Celebi - Voice of the Forest    4\n",
       "Le Samouraï                                    4\n",
       "Beauty and the Beast                           4\n",
       "Wuthering Heights                              4\n",
       "Name: title, dtype: int64"
      ]
     },
     "execution_count": 21,
     "metadata": {},
     "output_type": "execute_result"
    }
   ],
   "source": [
    "# Here we can see which rows were duplicated\n",
    "movies['title'].value_counts().head()"
   ]
  },
  {
   "cell_type": "code",
   "execution_count": 22,
   "metadata": {},
   "outputs": [],
   "source": [
    "movies = movies.drop_duplicates(subset = 'title')\n",
    "movies.reset_index(inplace = True, drop = True)"
   ]
  },
  {
   "cell_type": "code",
   "execution_count": 23,
   "metadata": {},
   "outputs": [
    {
     "data": {
      "text/plain": [
       "(12757, 10)"
      ]
     },
     "execution_count": 23,
     "metadata": {},
     "output_type": "execute_result"
    }
   ],
   "source": [
    "# Dataframe will now not contain any duplicate titles\n",
    "movies.shape"
   ]
  },
  {
   "cell_type": "code",
   "execution_count": 24,
   "metadata": {},
   "outputs": [],
   "source": [
    "# Rename the movies 'string' column to 'keywords'\n",
    "movies.rename(columns = {'string': 'keywords'}, inplace = True)"
   ]
  },
  {
   "cell_type": "markdown",
   "metadata": {},
   "source": [
    "### Merge actors into movies dataframe"
   ]
  },
  {
   "cell_type": "code",
   "execution_count": 25,
   "metadata": {},
   "outputs": [
    {
     "data": {
      "text/plain": [
       "(12772, 11)"
      ]
     },
     "execution_count": 25,
     "metadata": {},
     "output_type": "execute_result"
    }
   ],
   "source": [
    "def cast_list(cast):\n",
    "    c_list = []\n",
    "    cast = literal_eval(cast)\n",
    "    for char in cast:\n",
    "        c_list.append(char['name'])\n",
    "    return list(set(c_list))\n",
    "\n",
    "credits['cast_list'] = credits['cast'].apply(cast_list)\n",
    "\n",
    "movies = pd.merge(movies, credits[['id', 'cast_list']], on = 'id', how = 'left')\n",
    "\n",
    "movies.shape"
   ]
  },
  {
   "cell_type": "code",
   "execution_count": 26,
   "metadata": {},
   "outputs": [],
   "source": [
    "movies.drop_duplicates(subset = 'title', inplace = True)\n",
    "movies.reset_index(drop = True, inplace = True)"
   ]
  },
  {
   "cell_type": "markdown",
   "metadata": {},
   "source": [
    "### Merge movie overview, tagline, and keywords into one string"
   ]
  },
  {
   "cell_type": "code",
   "execution_count": 27,
   "metadata": {},
   "outputs": [],
   "source": [
    "full_overviews = []\n",
    "\n",
    "for row in movies.iterrows():\n",
    "    fover = ''\n",
    "    if type(row[1]['overview']) == str:\n",
    "        fover += ' ' + row[1]['overview']\n",
    "    if type(row[1]['tagline']) == str:\n",
    "        fover += ' ' + row[1]['tagline']\n",
    "    if type(row[1]['keywords']) == str:\n",
    "        fover += ' ' + row[1]['keywords']\n",
    "    full_overviews.append(fover.strip())\n",
    "        "
   ]
  },
  {
   "cell_type": "code",
   "execution_count": 28,
   "metadata": {},
   "outputs": [],
   "source": [
    "movies['full_overview'] = full_overviews"
   ]
  },
  {
   "cell_type": "markdown",
   "metadata": {},
   "source": [
    "### Clean text of full overviews"
   ]
  },
  {
   "cell_type": "code",
   "execution_count": 29,
   "metadata": {},
   "outputs": [],
   "source": [
    "def clean_text(text):\n",
    "    # Remove links\n",
    "    text = re.sub('(?:(?:https?|ftp):\\/\\/)?[\\w/\\-?=%.]+\\.[\\w/\\-?=%.]+','', text)\n",
    "    # Remove non-alphanumerics\n",
    "    text = re.sub('\\w*\\d\\w*', '', text)\n",
    "    # Remove punctuation and lowercase\n",
    "    text = re.sub('[%s]' % re.escape(string.punctuation), '', text.lower())\n",
    "    # Remove newline characters\n",
    "    text = text.replace('\\n', ' ')\n",
    "    \n",
    "    return text"
   ]
  },
  {
   "cell_type": "code",
   "execution_count": 30,
   "metadata": {},
   "outputs": [],
   "source": [
    "movies['full_overview'] = movies['full_overview'].apply(clean_text)"
   ]
  },
  {
   "cell_type": "code",
   "execution_count": 31,
   "metadata": {},
   "outputs": [],
   "source": [
    "# Remove stopwords before stemming\n",
    "def remove_stopwords(text):\n",
    "    clean_text = []\n",
    "    for word in text.split(' '):\n",
    "        if word not in STOPWORDS and (len(word) > 2):\n",
    "            clean_text.append(word)\n",
    "    return ' '.join(clean_text)"
   ]
  },
  {
   "cell_type": "code",
   "execution_count": 32,
   "metadata": {},
   "outputs": [],
   "source": [
    "movies['full_overview'] = movies['full_overview'].apply(remove_stopwords)"
   ]
  },
  {
   "cell_type": "code",
   "execution_count": 33,
   "metadata": {},
   "outputs": [
    {
     "data": {
      "text/plain": [
       "'led woody andys toys live happily room andys birthday brings buzz lightyear scene afraid losing place andys heart woody plots buzz circumstances separate buzz woody owner duo eventually learns aside differences jealousy toy boy friendship friends rivalry boy door new toy toy comes life'"
      ]
     },
     "execution_count": 33,
     "metadata": {},
     "output_type": "execute_result"
    }
   ],
   "source": [
    "movies.loc[0, 'full_overview']"
   ]
  },
  {
   "cell_type": "code",
   "execution_count": 34,
   "metadata": {},
   "outputs": [],
   "source": [
    "stemmer = PorterStemmer()\n",
    "\n",
    "def stem_text(text):\n",
    "    word_list = []\n",
    "    for word in text.split(' '):\n",
    "        word_list.append(stemmer.stem(word))\n",
    "    return ' '.join(word_list)"
   ]
  },
  {
   "cell_type": "code",
   "execution_count": 35,
   "metadata": {},
   "outputs": [],
   "source": [
    "movies['full_overview'] = movies['full_overview'].apply(stem_text)"
   ]
  },
  {
   "cell_type": "code",
   "execution_count": 36,
   "metadata": {},
   "outputs": [
    {
     "data": {
      "text/plain": [
       "0    led woodi andi toy live happili room andi birt...\n",
       "1    sibl judi peter discov enchant board game open...\n",
       "2    famili wed reignit ancient feud nextdoor neigh...\n",
       "3    cheat mistreat step women hold breath wait elu...\n",
       "4    georg bank recov daughter wed receiv news she ...\n",
       "Name: full_overview, dtype: object"
      ]
     },
     "execution_count": 36,
     "metadata": {},
     "output_type": "execute_result"
    }
   ],
   "source": [
    "movies['full_overview'].head()"
   ]
  },
  {
   "cell_type": "markdown",
   "metadata": {},
   "source": [
    "# Topic modeling of full movie overviews"
   ]
  },
  {
   "cell_type": "code",
   "execution_count": 41,
   "metadata": {},
   "outputs": [],
   "source": [
    "def display_topics(model, feature_names, no_top_words, no_top_topics, topic_names=None):\n",
    "    count = 0\n",
    "    for ix, topic in enumerate(model.components_):\n",
    "        if count == no_top_topics:\n",
    "            break\n",
    "        if not topic_names or not topic_names[ix]:\n",
    "            print(\"\\nTopic \", (ix + 1))\n",
    "        else:\n",
    "            print(\"\\nTopic: '\",topic_names[ix],\"'\")\n",
    "        print(\", \".join([feature_names[i]\n",
    "                        for i in topic.argsort()[:-no_top_words - 1:-1]]))\n",
    "        count += 1"
   ]
  },
  {
   "cell_type": "markdown",
   "metadata": {},
   "source": [
    "### NMF with TFIDF"
   ]
  },
  {
   "cell_type": "code",
   "execution_count": 42,
   "metadata": {},
   "outputs": [
    {
     "name": "stdout",
     "output_type": "stream",
     "text": [
      "\n",
      "Topic  1\n",
      "famili, home, hous, vacat, dysfunct, life, live, dysfunct famili, parent, famili secret, secret, children, kid, famili relationship, famili vacat\n",
      "\n",
      "Topic  2\n",
      "school, high, high school, student, teacher, teenag, girl, school student, teen, popular, graduat, school teacher, footbal, class, board school\n",
      "\n",
      "Topic  3\n",
      "polic, murder, cop, detect, investig, angel, lo, lo angel, agent, crime, offic, car, bank, corrupt, crimin\n",
      "\n",
      "Topic  4\n",
      "war, world war, world, soldier, nazi, armi, american, german, civil, vietnam, civil war, japanes, battl, germani, forc\n",
      "\n",
      "Topic  5\n",
      "york, new york, new, citi, york citi, street, manhattan, subway, apart, brooklyn, manhattan new, mafia, coupl, writer, work\n",
      "\n",
      "Topic  6\n",
      "love, fall, fall love, life, love life, marriag, man, meet, marri, lover, affair, relationship, love stori, young, romant\n",
      "\n",
      "Topic  7\n",
      "town, man, young, small, death, live, life, hous, mysteri, small town, evil, vampir, dead, die, girl\n",
      "\n",
      "Topic  8\n",
      "woman, director, woman director, young woman, pari, young, sister, pari woman, sexual, lesbian, husband, wed, femal, teenag, beauti\n",
      "\n",
      "Topic  9\n",
      "killer, serial, serial killer, murder, psychopath, victim, nuditi, fbi, kill, slasher, murder serial, maniac, fbi agent, detect, violenc\n",
      "\n",
      "Topic  10\n",
      "film, independ, independ film, movi, documentari, filmmak, star, life, nuditi, hollywood, produc, comedi, sex, featur, direct\n",
      "\n",
      "Topic  11\n",
      "stori, true, true stori, base, base true, novel, base novel, biographi, inspir, sport, tell, true event, event, tell stori, inspir true\n",
      "\n",
      "Topic  12\n",
      "alien, space, earth, planet, human, travel, time, futur, robot, astronaut, mission, crew, scientist, spaceship, space travel\n",
      "\n",
      "Topic  13\n",
      "art, martial, martial art, master, kung, fight, assassin, game, kong, china, hong, hong kong, artist, art kung, fighter\n",
      "\n",
      "Topic  14\n",
      "christma, santa, holiday, clau, santa clau, christma eve, eve, north pole, pole, north, toy, parti, christma parti, christma tree, holiday christma\n",
      "\n",
      "Topic  15\n",
      "prison, escap, convict, escap prison, releas, guard, prison prison, crimin, warden, releas prison, crime, inmat, jail, sentenc, year\n",
      "\n",
      "Topic  16\n",
      "relationship, father, brother, son, mother, sister, daughter, son relationship, father son, daughter relationship, sister relationship, child, brother brother, parent, singl\n",
      "\n",
      "Topic  17\n",
      "friend, best, best friend, friendship, girl, parti, colleg, dog, old, year, male, trip, comedi, gay, time\n",
      "\n",
      "Topic  18\n",
      "music, rock, band, star, danc, record, singer, dream, musician, play, concert, perform, roll, pop, song\n",
      "\n",
      "Topic  19\n",
      "comic, superhero, power, base comic, marvel, base, super, comic superhero, superhero base, super power, marvel comic, batman, hero, gotham, superman\n",
      "\n",
      "Topic  20\n",
      "drug, dealer, drug dealer, addict, drug addict, drug lord, lord, sex, traffic, cartel, drug traffic, gang, heroin, war drug, cop\n"
     ]
    }
   ],
   "source": [
    "vectorizer = TfidfVectorizer(stop_words = STOPWORDS, ngram_range = (1,2))\n",
    "doc_word = vectorizer.fit_transform(movies['full_overview'])\n",
    "nmf = NMF(20)\n",
    "doc_topic = nmf.fit_transform(doc_word)\n",
    "display_topics(nmf, vectorizer.get_feature_names(), 15, 20)"
   ]
  },
  {
   "cell_type": "code",
   "execution_count": 43,
   "metadata": {},
   "outputs": [],
   "source": [
    "column_names = ['topic1', 'topic2', 'topic3', 'topic4', 'topic5', 'topic6', 'topic7', 'topic8', 'topic9', 'topic10', 'topic11',\n",
    "                'topic12', 'topic13', 'topic14', 'topic15', 'topic16', 'topic17', 'topic18', 'topic19', 'topic20']\n",
    "doc_topic_df = pd.DataFrame(data = doc_topic, columns = column_names)\n"
   ]
  },
  {
   "cell_type": "code",
   "execution_count": 44,
   "metadata": {},
   "outputs": [],
   "source": [
    "movies = pd.concat([movies, doc_topic_df], axis = 1)"
   ]
  },
  {
   "cell_type": "code",
   "execution_count": 45,
   "metadata": {},
   "outputs": [
    {
     "data": {
      "text/plain": [
       "(12757, 32)"
      ]
     },
     "execution_count": 45,
     "metadata": {},
     "output_type": "execute_result"
    }
   ],
   "source": [
    "# No duplicates added this time\n",
    "movies.shape"
   ]
  },
  {
   "cell_type": "markdown",
   "metadata": {},
   "source": [
    "# Create sparse vector representations of actors and genres"
   ]
  },
  {
   "cell_type": "markdown",
   "metadata": {},
   "source": [
    "### Genres"
   ]
  },
  {
   "cell_type": "code",
   "execution_count": 46,
   "metadata": {},
   "outputs": [],
   "source": [
    "all_genres = []\n",
    "for genres in movies['genres']:\n",
    "    all_genres += genres\n",
    "all_genres = list(set(all_genres))\n",
    "\n",
    "sparse_genres = np.zeros((movies.shape[0], len(all_genres)))\n",
    "\n",
    "for i, movie in enumerate(movies['genres']):\n",
    "    for genre in movie:\n",
    "        sparse_genres[i, all_genres.index(genre)] = 1\n",
    "\n",
    "sparse_genres = pd.DataFrame(data = sparse_genres, columns = all_genres)"
   ]
  },
  {
   "cell_type": "code",
   "execution_count": 47,
   "metadata": {},
   "outputs": [],
   "source": [
    "movies = pd.concat([movies, sparse_genres], axis = 1)"
   ]
  },
  {
   "cell_type": "markdown",
   "metadata": {},
   "source": [
    "### Actors"
   ]
  },
  {
   "cell_type": "code",
   "execution_count": 48,
   "metadata": {},
   "outputs": [],
   "source": [
    "pop_actors = pickle.load(open('models/pop_actors.pkl', 'rb'))\n",
    "\n",
    "sparse_actors = np.zeros((movies.shape[0], len(pop_actors)))\n",
    "\n",
    "for i, movie in enumerate(movies['cast_list']):\n",
    "    for actor in movie:\n",
    "        if actor in pop_actors:\n",
    "            sparse_actors[i, pop_actors.index(actor)] = 1\n",
    "\n",
    "sparse_actors = pd.DataFrame(data = sparse_actors, columns = pop_actors)"
   ]
  },
  {
   "cell_type": "code",
   "execution_count": 49,
   "metadata": {},
   "outputs": [],
   "source": [
    "movies = pd.concat([movies, sparse_actors], axis = 1)"
   ]
  },
  {
   "cell_type": "markdown",
   "metadata": {},
   "source": [
    "### Lower all column names"
   ]
  },
  {
   "cell_type": "code",
   "execution_count": 50,
   "metadata": {},
   "outputs": [],
   "source": [
    "col_dict = {}\n",
    "\n",
    "for col in movies.columns:\n",
    "    col_dict[col] = col.lower().replace('-', ' ')"
   ]
  },
  {
   "cell_type": "code",
   "execution_count": 51,
   "metadata": {},
   "outputs": [],
   "source": [
    "movies.rename(columns = col_dict, inplace = True)"
   ]
  },
  {
   "cell_type": "code",
   "execution_count": 69,
   "metadata": {},
   "outputs": [],
   "source": [
    "# Save movies dataframe\n",
    "# pickle.dump(movies, open('models/movies.pkl', 'wb'))"
   ]
  },
  {
   "cell_type": "markdown",
   "metadata": {},
   "source": [
    "### Create array for movie properties"
   ]
  },
  {
   "cell_type": "code",
   "execution_count": 52,
   "metadata": {},
   "outputs": [],
   "source": [
    "movie_array = np.array(movies.iloc[:,12:])\n",
    "norms = np.linalg.norm(movie_array[:,:20], axis = 1)\n",
    "\n",
    "# Drop rows with zero norms\n",
    "zero_norms = list(np.where(norms == 0)[0])\n",
    "movies.drop(index = zero_norms, inplace = True)\n",
    "movies.reset_index(inplace = True, drop = True)\n",
    "\n",
    "# reset movie array and norms\n",
    "movie_array = np.array(movies.iloc[:,12:])\n",
    "norms = np.linalg.norm(movie_array[:,:20], axis = 1)\n",
    "\n",
    "# Set col_names, movie_names, and movie_metadata variables\n",
    "col_names = list(movies.columns[12:])\n",
    "movie_names = list(movies['title'].apply(lambda x: x.lower()))\n",
    "movie_metadata = movies.iloc[:, :12]"
   ]
  },
  {
   "cell_type": "code",
   "execution_count": 56,
   "metadata": {},
   "outputs": [],
   "source": [
    "# For each movie in movie array. Center the movie vector representations around 0.\n",
    "movie_temp = movie_array[:,:20]\n",
    "\n",
    "for i in range(movie_temp.shape[0]):\n",
    "    row = movie_temp[i, :]\n",
    "    new_row = row - np.sum(row) / 20\n",
    "    movie_temp[i,:] = new_row\n"
   ]
  },
  {
   "cell_type": "code",
   "execution_count": 75,
   "metadata": {},
   "outputs": [
    {
     "data": {
      "text/plain": [
       "(12689, 10571)"
      ]
     },
     "execution_count": 75,
     "metadata": {},
     "output_type": "execute_result"
    }
   ],
   "source": [
    "# Concatenate centered representation with actor and genre info.\n",
    "movie_array = np.concatenate((movie_temp, movie_array[:,20:]), axis = 1)\n",
    "movie_array.shape"
   ]
  },
  {
   "cell_type": "code",
   "execution_count": 77,
   "metadata": {},
   "outputs": [],
   "source": [
    "norms = np.linalg.norm(movie_array[:,:20], axis = 1)"
   ]
  },
  {
   "cell_type": "markdown",
   "metadata": {},
   "source": [
    "### Create pickles of movie_array, norms, col_names, movie_names, and movie_metadata"
   ]
  },
  {
   "cell_type": "code",
   "execution_count": 78,
   "metadata": {},
   "outputs": [],
   "source": [
    "pickle.dump(movie_array, open('pickles/movie_array.pkl', 'wb'))\n",
    "pickle.dump(norms, open('pickles/norms.pkl', 'wb'))\n",
    "pickle.dump(col_names, open('pickles/col_names.pkl', 'wb'))\n",
    "pickle.dump(movie_names, open('pickles/movie_names.pkl', 'wb'))\n",
    "pickle.dump(movie_metadata, open('pickles/movie_metadata.pkl', 'wb'))"
   ]
  }
 ],
 "metadata": {
  "kernelspec": {
   "display_name": "metis",
   "language": "python",
   "name": "metis"
  },
  "language_info": {
   "codemirror_mode": {
    "name": "ipython",
    "version": 3
   },
   "file_extension": ".py",
   "mimetype": "text/x-python",
   "name": "python",
   "nbconvert_exporter": "python",
   "pygments_lexer": "ipython3",
   "version": "3.7.3"
  }
 },
 "nbformat": 4,
 "nbformat_minor": 2
}
